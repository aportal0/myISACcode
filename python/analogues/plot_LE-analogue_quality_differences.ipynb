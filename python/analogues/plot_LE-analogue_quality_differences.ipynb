{
 "cells": [
  {
   "cell_type": "markdown",
   "id": "69bd1fd2",
   "metadata": {},
   "source": [
    "# Plot differences between epochs \n",
    "#### From files in ./analogue_data/analogue_differences"
   ]
  },
  {
   "cell_type": "markdown",
   "id": "5261fbcf",
   "metadata": {},
   "source": [
    "### Functions"
   ]
  },
  {
   "cell_type": "code",
   "execution_count": 10,
   "id": "9c39425f",
   "metadata": {},
   "outputs": [],
   "source": [
    "# --- Imports ---\n",
    "import os\n",
    "import sys\n",
    "import numpy as np\n",
    "import pandas as pd\n",
    "import xarray as xr\n",
    "import matplotlib.pyplot as plt\n",
    "import dask\n",
    "from dask.distributed import Client, LocalCluster\n",
    "from scipy.interpolate import griddata\n",
    "import calendar\n",
    "import cartopy.crs as ccrs\n",
    "import cartopy.feature as cfeature\n",
    "import matplotlib.colors as mcolors\n",
    "\n",
    "# --- Custom Functions ---\n",
    "# sys.path.append('/home/portal/script/python/precip_Cristina/')                    # tintin\n",
    "sys.path.append('/home/alice/Desktop/work/git/myISACcode/python/precip_Cristina')   # alice\n",
    "sys.path.append('/home/alice/Desktop/work/git/myISACcode/python')                   # alice\n",
    "import functions_analogues_PrMax as fanPM\n",
    "import functions_analogues_LUCAFAMOSS as fan"
   ]
  },
  {
   "cell_type": "markdown",
   "id": "3a0950c7",
   "metadata": {},
   "source": [
    "### Directories"
   ]
  },
  {
   "cell_type": "code",
   "execution_count": 49,
   "id": "9f3fadf4",
   "metadata": {},
   "outputs": [],
   "source": [
    "# # tintin\n",
    "# CERRA_dir = '/work_big/users/clima/portal/CERRA-Land/'\n",
    "# ERA5_dir = '/work_big/users/clima/portal/ERA5/'\n",
    "# CRCM5_dir = '/work_big/users/clima/portal/CRCM5-LE/'\n",
    "\n",
    "# alice\n",
    "CERRA_dir = '/media/alice/Crucial X9/portal/data_CNR/CERRA-Land/'\n",
    "ERA5_dir = '/media/alice/Crucial X9/portal/data_CNR/ERA5/'\n",
    "CRCM5_dir = '/media/alice/Crucial X9/portal/data_CNR/CRCM5-LE/'\n",
    "fig_dir = '/home/alice/Desktop/CNR/ENCIRCLE/materiale_alice/figures/analogues/'\n",
    "diff_dir = './analogue_data/analogue_differences/' "
   ]
  },
  {
   "cell_type": "markdown",
   "id": "16485719",
   "metadata": {},
   "source": [
    "### Variable"
   ]
  },
  {
   "cell_type": "code",
   "execution_count": 50,
   "id": "ab82704b",
   "metadata": {},
   "outputs": [],
   "source": [
    "# Variable\n",
    "var_analogues = 'psl'  # Variable used to find the analogues, e.g. 'psl' for sea level pressure\n",
    "varname = 'pr'  # Variable to compute the difference between analogues, e.g. 'zg' for geopotential height"
   ]
  },
  {
   "cell_type": "markdown",
   "id": "67caf98b",
   "metadata": {},
   "source": [
    "### Event"
   ]
  },
  {
   "cell_type": "code",
   "execution_count": 51,
   "id": "8e656b26",
   "metadata": {},
   "outputs": [],
   "source": [
    "# Event\n",
    "lselect = 'alertregions'  # 'Italy' or 'wide-region' or 'alert-regions'\n",
    "no_node = 1\n",
    "no_event = 1\n",
    "event_origin = 'CRCM5-LE'  # 'ERA5' or 'CRCM5-LE'\n",
    "if event_origin == 'ERA5':\n",
    "    str_event = f'node{no_node}-extreme{no_event}-{lselect}'\n",
    "elif event_origin == 'CRCM5-LE':\n",
    "    str_event = f'BAM-node{no_node}-extreme{no_event}-{lselect}'\n",
    "# Define lon-lat box of event\n",
    "box_event = fanPM.box_event_PrMax_alertregions(no_node,no_event)"
   ]
  },
  {
   "cell_type": "markdown",
   "id": "29b5111e",
   "metadata": {},
   "source": [
    "### Analogue selection"
   ]
  },
  {
   "cell_type": "code",
   "execution_count": 52,
   "id": "d794f9da",
   "metadata": {},
   "outputs": [
    {
     "name": "stdout",
     "output_type": "stream",
     "text": [
      "['kba', 'kbb', 'kbc', 'kbd', 'kbe', 'kbf', 'kbg', 'kbh', 'kbi', 'kbj', 'kbk', 'kbl', 'kbm', 'kbn', 'kbo', 'kbp', 'kbq', 'kbr', 'kbs', 'kbt', 'kbu', 'kbv', 'kbw', 'kbx', 'kby', 'kbz', 'kca', 'kcb', 'kcc', 'kcd', 'kce', 'kcf', 'kcg', 'kch', 'kci', 'kcj', 'kck', 'kcl', 'kcm', 'kcn', 'kco', 'kcp', 'kcq', 'kcr', 'kcs', 'kct', 'kcu', 'kcw', 'kcx']\n"
     ]
    }
   ],
   "source": [
    "# Quantile\n",
    "qtl_LE = 0.99\n",
    "\n",
    "# Number of ensemble members\n",
    "no_membs = 49\n",
    "# List of members\n",
    "list_membs = [name for name in os.listdir(CRCM5_dir + 'psl') if os.path.isdir(os.path.join(CRCM5_dir + 'psl', name))]\n",
    "list_membs = sorted(list_membs)[:no_membs]  # Select the first 'no_membs' members\n",
    "print(list_membs)\n",
    "\n",
    "# Epochs\n",
    "# list_year_ranges = [[1955, 1974], [2004, 2023], [2080, 2099]] # past [1955-1974], present [2004-2023], near-future [2030-2049], far future [2080-2099]\n",
    "list_year_ranges = [[1955, 1974], [2004,2023], [2080,2099]]\n",
    "no_epochs = len(list_year_ranges)\n",
    "\n",
    "# Difference between epochs\n",
    "list_diff_indices = [[0,1],[0,2],[1,2]]  # Define the indices of epochs to compare"
   ]
  },
  {
   "cell_type": "markdown",
   "id": "024cd876",
   "metadata": {},
   "source": [
    "### Upload Euclidean distance of analogues from event"
   ]
  },
  {
   "cell_type": "code",
   "execution_count": 53,
   "id": "f336252f",
   "metadata": {},
   "outputs": [],
   "source": [
    "# Load ensemble data\n",
    "ensemble_data = []\n",
    "for i, year_range in enumerate(list_year_ranges):\n",
    "    epoch_data = {}\n",
    "    for memb in list_membs:\n",
    "        # Construct the file path\n",
    "        if event_origin == 'ERA5':\n",
    "            file_path = f'./analogue_data/times_distances_analogues-{var_analogues}_node{no_node}-extreme{no_event}-alertregions_{int(qtl_LE*100)}pct_{year_range[0]}-{year_range[1]}_CRCM5-LE_memb-{memb}.npz'\n",
    "        elif event_origin == 'CRCM5-LE':\n",
    "            file_path = f'./analogue_data/times_distances_analogues-{var_analogues}_BAM-node{no_node}-extreme{no_event}-alertregions_{int(qtl_LE*100)}pct_{year_range[0]}-{year_range[1]}_CRCM5-LE_memb-{memb}.npz'\n",
    "        # Load the data from the npz file\n",
    "        if not os.path.exists(file_path):\n",
    "            print(f\"File not found: {file_path}\")\n",
    "            continue\n",
    "        # Load the data\n",
    "        data = np.load(file_path, allow_pickle=True)\n",
    "        times = data['times']\n",
    "        distances = data['distances']\n",
    "        epoch_data[memb] = {'times': times, 'distances': distances}\n",
    "    ensemble_data.append(epoch_data)\n",
    "no_analogues_LE = len(ensemble_data[0][list_membs[0]]['times'])  # Number of analogues per member\n",
    "\n",
    "# Load ERA5 data\n",
    "file_path_ERA5 = f'./analogue_data/times_distances_analogues-mslp_node{no_node}-extreme{no_event}-alertregions_{int(qtl_LE*100)}pct_2004-2023_ERA5.npz'\n",
    "if not os.path.exists(file_path_ERA5):\n",
    "    print(f\"File not found: {file_path_ERA5}\")\n",
    "# Load the data\n",
    "data_ERA5 = np.load(file_path_ERA5, allow_pickle=True)"
   ]
  },
  {
   "cell_type": "code",
   "execution_count": 54,
   "id": "5cac3c5a",
   "metadata": {},
   "outputs": [],
   "source": [
    "# Distance from event\n",
    "# CRCM5-LE distances\n",
    "list_distances = []  # Initialize distances array for plotting\n",
    "list_times = []  # Initialize times array\n",
    "mean_dist = np.zeros(no_epochs)  # Initialize mean distance array for plotting\n",
    "for i in range(len(list_year_ranges)):\n",
    "    distances = np.zeros((no_membs, no_analogues_LE))  # Initialize distances array for plotting\n",
    "    times = []  # Initialize times array for plotting\n",
    "    for im, memb in enumerate(list_membs):\n",
    "        # Extract distances for the current member and epoch\n",
    "        distances[im] = ensemble_data[i][memb]['distances']\n",
    "        times.append(ensemble_data[i][memb]['times'])\n",
    "    list_distances.append(distances)  # Append distances for the current epoch\n",
    "    mean_dist[i] = np.mean(distances)  # Calculate mean distance for the current epoch\n",
    "    list_times.append(times)  # Append times for the current epoch\n",
    "\n",
    "# ERA5 distances\n",
    "distances_ERA5 = data_ERA5['distances']"
   ]
  },
  {
   "cell_type": "markdown",
   "id": "0c5505dd",
   "metadata": {},
   "source": [
    "### Plot distance from event in the different epochs"
   ]
  },
  {
   "cell_type": "code",
   "execution_count": 55,
   "id": "72e7ba90",
   "metadata": {},
   "outputs": [
    {
     "data": {
      "image/png": "[encoded data removed]",
      "text/plain": [
       "<Figure size 1000x600 with 1 Axes>"
      ]
     },
     "metadata": {},
     "output_type": "display_data"
    }
   ],
   "source": [
    "\n",
    "# Plot distance from event in the different epochs\n",
    "fig, ax = plt.subplots(nrows=1, ncols=1, figsize=(10, 6))\n",
    "if event_origin == 'ERA5':\n",
    "    fig.suptitle(f\"{varname} Analogue Distances per epoch - ERA5 event node{no_node}-extreme{no_event}\\n (using {100-int(100*qtl_LE)} pct closest days for each member)\", fontsize=16) \n",
    "elif event_origin == 'CRCM5-LE':\n",
    "    fig.suptitle(f\"{varname} Analogue Distances per epoch - CRCM5-LE BAM node{no_node}-extreme{no_event}\\n (using {100-int(100*qtl_LE)} pct closest days for each member)\", fontsize=16)\n",
    "\n",
    "# Violin plot setup\n",
    "list_epoch_str = [f\"{year_range[0]}-{year_range[1]}\" for year_range in list_year_ranges]\n",
    "# # Plot violin per member\n",
    "# for im in range(no_membs):\n",
    "#     dist_per_epoch = [dist_epoch[im] for dist_epoch in list_distances]\n",
    "#     vp = ax.violinplot(dist_per_epoch, showmeans=False, showmedians=True, showextrema=True)\n",
    "#     median_color = vp['cmedians'].get_color() \n",
    "# Plot violin per epoch\n",
    "dist_per_epoch = [dist_epoch.flatten() for dist_epoch in list_distances]\n",
    "vp = ax.violinplot(dist_per_epoch, showmeans=False, showmedians=True, showextrema=True)\n",
    "median_color = vp['cmedians'].get_color() \n",
    "# Plot violin per epoch\n",
    "# Plot the mean distance for the epoch\n",
    "ax.plot(np.arange(1,no_epochs+1), mean_dist, marker='o', color=median_color, markersize=10, label=f'Mean Dist. LE ({no_membs} membs)', linewidth=0)\n",
    "\n",
    "if event_origin == 'ERA5':\n",
    "    # Plot ERA5 violin\n",
    "    vp = ax.violinplot(distances_ERA5, positions=[2], showmeans=False, showmedians=True, showextrema=True)\n",
    "    median_color = vp['cmedians'].get_color() \n",
    "    # Plot the mean distance\n",
    "    ax.plot(2, distances_ERA5.mean(), marker='o', color=median_color, markersize=10, label=f'Mean Dist. ERA5', linewidth=0)\n",
    "\n",
    "# Ticks and labels\n",
    "ax.set_xticks(range(1, no_epochs+1))\n",
    "ax.set_xticklabels(list_epoch_str, rotation=45)\n",
    "ax.set_xlabel('Epochs')\n",
    "if event_origin == 'ERA5':\n",
    "    ax.set_ylabel('Euclidean Distance from ERA5 Event (hPa)')\n",
    "elif event_origin == 'CRCM5-LE':\n",
    "    ax.set_ylabel('Euclidean Distance from BAM Event (hPa)')\n",
    "ax.legend()\n",
    "\n",
    "# Save the figure\n",
    "if event_origin == 'ERA5':\n",
    "    fig.savefig(f\"{fig_dir}analogue-distances-{var_analogues}_node{no_node}-extreme{no_event}-alertregions_{int(qtl_LE*100)}pct_CRCM5_{no_membs}membs.png\", bbox_inches='tight', dpi=300)\n",
    "elif event_origin == 'CRCM5-LE':\n",
    "    fig.savefig(f\"{fig_dir}BAM-analogue-distances-{var_analogues}_node{no_node}-extreme{no_event}-alertregions_{int(qtl_LE*100)}pct_CRCM5_{no_membs}membs.png\", bbox_inches='tight', dpi=300)    \n"
   ]
  },
  {
   "cell_type": "markdown",
   "id": "3fefa59a",
   "metadata": {},
   "source": [
    "### Best analogue in model"
   ]
  },
  {
   "cell_type": "code",
   "execution_count": 57,
   "id": "cf06771e",
   "metadata": {},
   "outputs": [
    {
     "name": "stdout",
     "output_type": "stream",
     "text": [
      "Epoch 1\n",
      "kcr\n",
      "[116.27469635 128.30900574 153.64735413 162.36599731 163.1411438\n",
      " 168.10440063 168.11860657 183.82495117 185.96231079 191.09423828\n",
      " 191.10105896 195.96357727 208.73373413 210.11743164 216.75117493\n",
      " 220.92617798 227.32373047 229.19224548]\n",
      "[cftime.DatetimeNoLeap(2016, 12, 27, 0, 0, 0, 0, has_year_zero=True)\n",
      " cftime.DatetimeNoLeap(2013, 12, 20, 0, 0, 0, 0, has_year_zero=True)\n",
      " cftime.DatetimeNoLeap(2009, 12, 18, 0, 0, 0, 0, has_year_zero=True)\n",
      " cftime.DatetimeNoLeap(2018, 12, 17, 0, 0, 0, 0, has_year_zero=True)\n",
      " cftime.DatetimeNoLeap(2023, 10, 6, 0, 0, 0, 0, has_year_zero=True)\n",
      " cftime.DatetimeNoLeap(2015, 11, 14, 0, 0, 0, 0, has_year_zero=True)\n",
      " cftime.DatetimeNoLeap(2005, 10, 27, 0, 0, 0, 0, has_year_zero=True)\n",
      " cftime.DatetimeNoLeap(2010, 11, 20, 0, 0, 0, 0, has_year_zero=True)\n",
      " cftime.DatetimeNoLeap(2011, 11, 7, 0, 0, 0, 0, has_year_zero=True)\n",
      " cftime.DatetimeNoLeap(2022, 12, 22, 0, 0, 0, 0, has_year_zero=True)\n",
      " cftime.DatetimeNoLeap(2010, 12, 2, 0, 0, 0, 0, has_year_zero=True)\n",
      " cftime.DatetimeNoLeap(2021, 12, 9, 0, 0, 0, 0, has_year_zero=True)\n",
      " cftime.DatetimeNoLeap(2018, 12, 5, 0, 0, 0, 0, has_year_zero=True)\n",
      " cftime.DatetimeNoLeap(2019, 11, 29, 0, 0, 0, 0, has_year_zero=True)\n",
      " cftime.DatetimeNoLeap(2008, 12, 4, 0, 0, 0, 0, has_year_zero=True)\n",
      " cftime.DatetimeNoLeap(2016, 11, 14, 0, 0, 0, 0, has_year_zero=True)\n",
      " cftime.DatetimeNoLeap(2006, 11, 17, 0, 0, 0, 0, has_year_zero=True)\n",
      " cftime.DatetimeNoLeap(2014, 11, 7, 0, 0, 0, 0, has_year_zero=True)]\n",
      "Epoch 1\n",
      "kcw\n",
      "[126.54098511 148.93629456 162.73858643 165.80906677 169.96524048\n",
      " 177.9446106  179.6696167  180.26261902 190.45259094 192.7698822\n",
      " 195.67636108 197.06596375 197.30293274 205.02096558 206.41227722\n",
      " 207.03135681 211.17565918 226.47621155]\n",
      "[cftime.DatetimeNoLeap(2010, 11, 24, 0, 0, 0, 0, has_year_zero=True)\n",
      " cftime.DatetimeNoLeap(2017, 12, 16, 0, 0, 0, 0, has_year_zero=True)\n",
      " cftime.DatetimeNoLeap(2004, 10, 25, 0, 0, 0, 0, has_year_zero=True)\n",
      " cftime.DatetimeNoLeap(2005, 10, 10, 0, 0, 0, 0, has_year_zero=True)\n",
      " cftime.DatetimeNoLeap(2023, 12, 11, 0, 0, 0, 0, has_year_zero=True)\n",
      " cftime.DatetimeNoLeap(2016, 11, 27, 0, 0, 0, 0, has_year_zero=True)\n",
      " cftime.DatetimeNoLeap(2007, 12, 17, 0, 0, 0, 0, has_year_zero=True)\n",
      " cftime.DatetimeNoLeap(2021, 11, 19, 0, 0, 0, 0, has_year_zero=True)\n",
      " cftime.DatetimeNoLeap(2014, 12, 10, 0, 0, 0, 0, has_year_zero=True)\n",
      " cftime.DatetimeNoLeap(2009, 11, 14, 0, 0, 0, 0, has_year_zero=True)\n",
      " cftime.DatetimeNoLeap(2012, 12, 17, 0, 0, 0, 0, has_year_zero=True)\n",
      " cftime.DatetimeNoLeap(2007, 10, 16, 0, 0, 0, 0, has_year_zero=True)\n",
      " cftime.DatetimeNoLeap(2007, 11, 2, 0, 0, 0, 0, has_year_zero=True)\n",
      " cftime.DatetimeNoLeap(2019, 12, 17, 0, 0, 0, 0, has_year_zero=True)\n",
      " cftime.DatetimeNoLeap(2009, 12, 18, 0, 0, 0, 0, has_year_zero=True)\n",
      " cftime.DatetimeNoLeap(2008, 12, 5, 0, 0, 0, 0, has_year_zero=True)\n",
      " cftime.DatetimeNoLeap(2019, 12, 2, 0, 0, 0, 0, has_year_zero=True)\n",
      " cftime.DatetimeNoLeap(2006, 12, 1, 0, 0, 0, 0, has_year_zero=True)]\n"
     ]
    }
   ],
   "source": [
    "\n",
    "for ind in range(no_epochs):\n",
    "    for i in range(no_membs):\n",
    "        if event_origin == 'ERA5':\n",
    "            thresh_high = 350\n",
    "        elif event_origin == 'CRCM5-LE':\n",
    "            thresh_high = 225\n",
    "        if np.any(list_distances[ind][i] > thresh_high) or np.any(list_distances[ind][i] < 50):\n",
    "            print(f'Epoch {ind}')\n",
    "            print(list_membs[i])\n",
    "            print(list_distances[ind][i])\n",
    "            print(list_times[ind][i])"
   ]
  },
  {
   "cell_type": "code",
   "execution_count": 58,
   "id": "93712862",
   "metadata": {},
   "outputs": [
    {
     "name": "stdout",
     "output_type": "stream",
     "text": [
      "Member and no-analogue: kbt 0\n",
      "Euclidean distance:  74.24334\n",
      "Date: 2019-11-10 00:00:00\n"
     ]
    }
   ],
   "source": [
    "ind_member = np.where(list_distances[1]==np.min(list_distances[1]))[0][0]\n",
    "no_BAM = np.where(list_distances[1]==np.min(list_distances[1]))[1][0]\n",
    "print('Member and no-analogue:',list_membs[ind_member], no_BAM)  # Example usage of np.argmin to find the index of the minimum distance in the first epoch for the first member\n",
    "print('Euclidean distance: ', ensemble_data[1][list_membs[ind_member]]['distances'][0])  # Print the shape of the distances array for the first epoch\n",
    "print('Date:', ensemble_data[1][list_membs[ind_member]]['times'][0])"
   ]
  },
  {
   "cell_type": "markdown",
   "id": "d0c19b41",
   "metadata": {},
   "source": [
    "### Upload difference (+ significance) files"
   ]
  },
  {
   "cell_type": "code",
   "execution_count": 34,
   "id": "b9831fc8",
   "metadata": {},
   "outputs": [
    {
     "name": "stdout",
     "output_type": "stream",
     "text": [
      "File ./analogue_data/analogue_differences/analogues-psl_difference_pr_node1-extreme1-alertregions_99pct_diff2004-2023_1955-1974_CRCM5_50membs.nc does not exist. Skipping epoch 1.\n",
      "File ./analogue_data/analogue_differences/analogues-psl_difference_pr_node1-extreme1-alertregions_99pct_diff2080-2099_1955-1974_CRCM5_50membs.nc does not exist. Skipping epoch 2.\n",
      "File ./analogue_data/analogue_differences/analogues-psl_difference_pr_node1-extreme1-alertregions_99pct_diff2080-2099_2004-2023_CRCM5_50membs.nc does not exist. Skipping epoch 3.\n"
     ]
    }
   ],
   "source": [
    "list_ds_diff = []  # List to store difference datasets\n",
    "list_str_diff = []  # List to store strinlist_membs[19]g representations of differences\n",
    "list_ds_ks_stats = []  # List to store KS statistics datasets\n",
    "for i in range(len(list_diff_indices)):\n",
    "    year_range1 = list_year_ranges[list_diff_indices[i][0]]\n",
    "    str_year_range1 = \"-\".join(str(x) for x in year_range1)\n",
    "    year_range2 = list_year_ranges[list_diff_indices[i][1]]\n",
    "    str_year_range2 = \"-\".join(str(x) for x in year_range2)\n",
    "    list_str_diff.append(f'{str_year_range2} - {str_year_range1}')  # Store the string representation of the difference\n",
    "    suffix_file = f\"_{varname}_{str_event}_{int(100*qtl_LE)}pct_diff{str_year_range2}_{str_year_range1}_CRCM5_{no_membs}membs.nc\"\n",
    "        \n",
    "    # Load analogue differences\n",
    "    diff_file = f'{diff_dir}analogues-{var_analogues}_difference{suffix_file}'\n",
    "    if not os.path.exists(diff_file):\n",
    "        print(f'File {diff_file} does not exist. Skipping epoch {i+1}.')\n",
    "        continue\n",
    "    ds_diff = xr.open_dataset(diff_file)\n",
    "    list_ds_diff.append(ds_diff)\n",
    "    # Load KS statistics\n",
    "    significance_file = f'{diff_dir}analogues-{var_analogues}_KS-statistics{suffix_file}'\n",
    "    if not os.path.exists(significance_file):\n",
    "        print(f'File {significance_file} does not exist. Skipping epoch {i+1}.')\n",
    "        continue\n",
    "    ds_ks_stats = xr.open_dataset(significance_file)\n",
    "    list_ds_ks_stats.append(ds_ks_stats)"
   ]
  },
  {
   "cell_type": "markdown",
   "id": "ae1fb7f8",
   "metadata": {},
   "source": [
    "### Plot differences"
   ]
  },
  {
   "cell_type": "code",
   "execution_count": null,
   "id": "b2c35f06",
   "metadata": {},
   "outputs": [],
   "source": [
    "# Create subplots with Cartopy projection\n",
    "fig, axes = plt.subplots(\n",
    "    nrows=1, ncols=3, figsize=(18, 6),\n",
    "    subplot_kw={'projection': ccrs.PlateCarree()},\n",
    "    constrained_layout=True\n",
    ")\n",
    "axes = axes.flatten()\n",
    "\n",
    "# Colormap and normalization\n",
    "# Define discrete color levels (e.g., 5 bins from -10 to 10)\n",
    "if varname == 'psl':\n",
    "    bounds = np.arange(-3.25, 3.5, .5)  # Bin edges for geopotential height differences\n",
    "    units = 'hPa'\n",
    "elif varname == 'zg':\n",
    "    bounds = np.arange(-15,16,2)  # Bin edges\n",
    "    units = 'm'\n",
    "elif varname == 'pr':\n",
    "    bounds = np.arange(-15,16,2)\n",
    "    units = 'mm/day'\n",
    "norm = mcolors.BoundaryNorm(boundaries=bounds, ncolors=len(bounds) - 1)\n",
    "\n",
    "# Define a discrete colormap (must match number of bins)\n",
    "cmap = plt.get_cmap('RdBu_r', len(bounds) - 1)  # E.g., 6 discrete colors\n",
    "\n",
    "# Plot each dataset\n",
    "for i in range(len(list_ds_diff)):\n",
    "    ax = axes[i]\n",
    "    ds_diff = list_ds_diff[i][varname].squeeze()  # Extract the variable from the dataset\n",
    "    ds_pvalue = list_ds_ks_stats[i].sel(output='pvalue').squeeze()\n",
    "\n",
    "    # Plot assuming ds_diff is 2D (lat, lon)\n",
    "    if varname == 'zg':\n",
    "        ds_diff *= 9.8  # Convert geopotential height to hPa\n",
    "    if varname == 'pr':\n",
    "        ds_diff *= 3600  # Convert precipitation from m/s*24 to mm/day\n",
    "    im = ds_diff.plot.imshow(\n",
    "        ax=ax,\n",
    "        cmap=cmap,\n",
    "        norm=norm,\n",
    "        add_colorbar=False,\n",
    "        transform=ccrs.PlateCarree()\n",
    "    )\n",
    "    # Plot significance using KS statistics\n",
    "    significant_mask = ds_pvalue[varname].values < 0.05\n",
    "    # Contour significant areas\n",
    "    if significant_mask.any():\n",
    "        ax.contourf(\n",
    "            ds_diff['lon'], ds_diff['lat'], significant_mask,\n",
    "            levels=[0.5, 1.5], \n",
    "            colors='none',      # no fill color\n",
    "            hatches=['///'],\n",
    "            transform=ccrs.PlateCarree()\n",
    "        )\n",
    "\n",
    "    # Add map features\n",
    "    ax.coastlines()\n",
    "    ax.set_title(f\"Difference {list_str_diff[i]}\", fontsize=14)\n",
    "    ax.set_xlabel('Longitude')\n",
    "    ax.set_ylabel('Latitude')\n",
    "\n",
    "    # Add colorbar\n",
    "    cbar = plt.colorbar(im, ax=ax, orientation='vertical', fraction=0.02, pad=0.04)\n",
    "    cbar.set_label(f'Difference ({units})', rotation=270, labelpad=20)\n",
    "\n",
    "# Figure title\n",
    "fig.suptitle(f\"LE Analogue Differences for {varname} (using {no_membs} LE members)\", fontsize=16)\n",
    "\n",
    "# Show plot\n",
    "plt.show()\n",
    "\n",
    "# Save the figure\n",
    "fig.savefig(f\"{fig_dir}{varname}_analogue-differences-{var_analogues}_node{no_node}-extreme{no_event}-alertregions_{int(qtl_LE*100)}pct_CRCM5_{no_membs}membs_sign.png\", bbox_inches='tight', dpi=300)"
   ]
  },
  {
   "cell_type": "markdown",
   "id": "8775c7fd",
   "metadata": {},
   "source": [
    "### Upload anomaly files (abs value for precip)"
   ]
  },
  {
   "cell_type": "code",
   "execution_count": null,
   "id": "2fee98a1",
   "metadata": {},
   "outputs": [],
   "source": [
    "list_ds_anom = []  # List to store difference datasets\n",
    "for i in range(len(list_year_ranges)):\n",
    "    year_range = list_year_ranges[i]\n",
    "    str_year_range = \"-\".join(str(x) for x in year_range)\n",
    "    suffix_file = f\"_{varname}_{str_event}_{int(100*qtl_LE)}pct_{str_year_range}_CRCM5_{no_membs}membs.nc\"\n",
    "        \n",
    "    # Load analogue anomalies\n",
    "    if varname == 'pr':\n",
    "        # For precipitation, use the absolute value\n",
    "        anom_file = f'{diff_dir}analogues-{var_analogues}{suffix_file}'\n",
    "    else:\n",
    "        # For other variables, we use the anomalies\n",
    "        anom_file = f'{diff_dir}analogues-{var_analogues}_anomaly{suffix_file}'\n",
    "    if not os.path.exists(anom_file):\n",
    "        print(f'File {anom_file} does not exist. Skipping epoch {i+1}.')\n",
    "        continue\n",
    "    ds_anom = xr.open_dataset(anom_file)\n",
    "    list_ds_anom.append(ds_anom)"
   ]
  },
  {
   "cell_type": "markdown",
   "id": "0faa1c8e",
   "metadata": {},
   "source": [
    "### Plot anomalies"
   ]
  },
  {
   "cell_type": "code",
   "execution_count": null,
   "id": "08b4222b",
   "metadata": {},
   "outputs": [],
   "source": [
    "# Create subplots with Cartopy projection\n",
    "fig, axes = plt.subplots(\n",
    "    nrows=1, ncols=3, figsize=(18, 6),\n",
    "    subplot_kw={'projection': ccrs.PlateCarree()},\n",
    "    constrained_layout=True\n",
    ")\n",
    "axes = axes.flatten()\n",
    "\n",
    "# Colormap and normalization\n",
    "# Define discrete color levels (e.g., 5 bins from -10 to 10)\n",
    "if varname == 'psl':\n",
    "    bounds = np.arange(-24, 25, 3)  # Bin edges for geopotential height differences\n",
    "    units = 'hPa'\n",
    "elif varname == 'zg':\n",
    "    bounds = np.arange(-15,16,2)  # Bin edges\n",
    "    units = 'm'\n",
    "elif varname == 'pr':\n",
    "    bounds = np.arange(0,81,8)\n",
    "    units = 'mm/day'\n",
    "norm = mcolors.BoundaryNorm(boundaries=bounds, ncolors=len(bounds) - 1)\n",
    "\n",
    "# Define a discrete colormap (must match number of bins)\n",
    "if varname == 'pr':\n",
    "    cmap = plt.get_cmap('Reds', len(bounds) - 1)  # E.g., 6 discrete colors for precipitation\n",
    "else:\n",
    "    cmap = plt.get_cmap('RdBu_r', len(bounds) - 1)  # E.g., 6 discrete colors\n",
    "\n",
    "# Plot each dataset\n",
    "for i in range(len(list_ds_anom)):\n",
    "    ax = axes[i]\n",
    "    ds_anom = list_ds_anom[i][varname].squeeze()  # Extract the variable from the dataset\n",
    "\n",
    "    # Plot assuming ds_anom is 2D (lat, lon)\n",
    "    if varname == 'zg':\n",
    "        ds_anom *= 9.8  # Convert geopotential to height\n",
    "    elif varname == 'pr':\n",
    "        ds_anom *= 3600  # Convert precipitation from m/s*24 to mm/day\n",
    "    im = ds_anom.plot.imshow(\n",
    "        ax=ax,\n",
    "        cmap=cmap,\n",
    "        norm=norm,\n",
    "        add_colorbar=False,\n",
    "        transform=ccrs.PlateCarree()\n",
    "    )\n",
    "\n",
    "    # Add map features\n",
    "    ax.coastlines()\n",
    "    ax.set_title(f\"Analogues {list_year_ranges[i][0]}-{list_year_ranges[i][1]}\", fontsize=14)\n",
    "    ax.set_xlabel('Longitude')\n",
    "    ax.set_ylabel('Latitude')\n",
    "\n",
    "    # Add colorbar\n",
    "    cbar = plt.colorbar(im, ax=ax, orientation='vertical', fraction=0.02, pad=0.04)\n",
    "    if varname=='pr':\n",
    "        cbar.set_label(f'Precipitation ({units})', rotation=270, labelpad=20)\n",
    "        fig.suptitle(f\"LE Analogue Values for {varname} (using {no_membs} LE members)\", fontsize=16)\n",
    "    else:\n",
    "        cbar.set_label(f'Anomaly ({units})', rotation=270, labelpad=20)\n",
    "        fig.suptitle(f\"LE Analogue Anomalies for {varname} (using {no_membs} LE members)\", fontsize=16)\n",
    "\n",
    "# Show plot\n",
    "plt.show()\n",
    "\n",
    "# Save the figure\n",
    "fig.savefig(f\"{fig_dir}{varname}_analogue-anomalies-{var_analogues}_{str_event}_{int(qtl_LE*100)}pct_CRCM5_{no_membs}membs_sign.png\", bbox_inches='tight', dpi=300)"
   ]
  },
  {
   "cell_type": "markdown",
   "id": "dc22ab5c",
   "metadata": {},
   "source": [
    "### Plot analogue precipitation (regional average in mask) "
   ]
  },
  {
   "cell_type": "code",
   "execution_count": null,
   "id": "e81c9c28",
   "metadata": {},
   "outputs": [],
   "source": [
    "# Upload precipitation value in region\n",
    "diff_dir = './analogue_data/analogue_differences/'\n",
    "factor = 3600\n",
    "reg_precip = []  # Initialize list to store regional precipitation values\n",
    "for year_range in list_year_ranges:\n",
    "    # Load the precipitation data for the specified year range\n",
    "    input_file = f'{diff_dir}analogues-{var_analogues}_mask-mean-{varname}_{str_event}_{int(qtl_LE*100)}pct_{year_range[0]}-{year_range[1]}_CRCM5_{no_membs}membs.nc'\n",
    "    reg_precip.append(xr.open_dataset(input_file)[varname].values.flatten()* factor)\n"
   ]
  },
  {
   "cell_type": "code",
   "execution_count": null,
   "id": "81ca0384",
   "metadata": {},
   "outputs": [],
   "source": [
    "# Plot violin plots\n",
    "fig, ax = plt.subplots(nrows=1, ncols=1, figsize=(10, 6))\n",
    "fig.suptitle(f\"{varname} Analogue Precipitation per epoch - {str_event}\\n (using {no_membs} LE members)\", fontsize=16)  \n",
    "# Violin plot setup\n",
    "list_epoch_str = [f\"{year_range[0]}-{year_range[1]}\" for year_range in list_year_ranges]\n",
    "# Plot violin per epoch   \n",
    "reg_precip_clean = [np.array(x)[~np.isnan(x)] for x in reg_precip]\n",
    "ax.violinplot(reg_precip_clean, showmeans=False, showmedians=True, showextrema=True)\n",
    "# Plot the mean precipitation for the epoch\n",
    "ax.plot(np.arange(1, len(reg_precip) + 1), [np.nanmean(reg_precip[i]) for i in range(len(reg_precip))], marker='o', color='black', markersize=10, label=f'Mean Precip. in Epoch', linewidth=0)     \n",
    "# Ticks and labels\n",
    "ax.set_xticks(range(1, len(list_year_ranges) + 1))\n",
    "ax.set_xticklabels(list_epoch_str, rotation=45)\n",
    "ax.set_xlabel('Epochs')\n",
    "ax.set_ylabel('Precipitation (mm/day)')\n",
    "ax.legend() \n",
    "\n",
    "plt.show()\n",
    "\n",
    "# Save the figure\n",
    "fig.savefig(f\"{fig_dir}{varname}_mask-mean_analogues-{var_analogues}_{str_event}_{int(qtl_LE*100)}pct_CRCM5_{no_membs}membs_sign.png\", bbox_inches='tight', dpi=300)"
   ]
  }
 ],
 "metadata": {
  "kernelspec": {
   "display_name": "xesmf_env",
   "language": "python",
   "name": "python3"
  },
  "language_info": {
   "codemirror_mode": {
    "name": "ipython",
    "version": 3
   },
   "file_extension": ".py",
   "mimetype": "text/x-python",
   "name": "python",
   "nbconvert_exporter": "python",
   "pygments_lexer": "ipython3",
   "version": "3.13.5"
  }
 },
 "nbformat": 4,
 "nbformat_minor": 5
}
