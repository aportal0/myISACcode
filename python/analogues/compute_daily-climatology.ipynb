{
 "cells": [
  {
   "cell_type": "code",
   "execution_count": 3,
   "metadata": {},
   "outputs": [],
   "source": [
    "import xarray as xr\n",
    "import numpy as np\n",
    "import dask\n",
    "from dask.diagnostics import ProgressBar\n",
    "from dask.distributed import Client\n",
    "import glob\n",
    "import time"
   ]
  },
  {
   "cell_type": "code",
   "execution_count": 6,
   "metadata": {},
   "outputs": [],
   "source": [
    "varname = 'z'\n",
    "varstr = 'z500'\n",
    "n_window = 31\n",
    "data_dir = '/work_big/users/clima/portal/ERA5/'+varstr+'/'\n",
    "year_range = [2004, 2023]   # for reference climatology"
   ]
  },
  {
   "cell_type": "markdown",
   "metadata": {},
   "source": [
    "### File selection"
   ]
  },
  {
   "cell_type": "code",
   "execution_count": 7,
   "metadata": {},
   "outputs": [
    {
     "name": "stdout",
     "output_type": "stream",
     "text": [
      "['/work_big/users/clima/portal/ERA5/z500/ERA5_z500_NH_daily_2004.nc', '/work_big/users/clima/portal/ERA5/z500/ERA5_z500_NH_daily_2005.nc', '/work_big/users/clima/portal/ERA5/z500/ERA5_z500_NH_daily_2006.nc', '/work_big/users/clima/portal/ERA5/z500/ERA5_z500_NH_daily_2007.nc', '/work_big/users/clima/portal/ERA5/z500/ERA5_z500_NH_daily_2008.nc']\n",
      "['/work_big/users/clima/portal/ERA5/z500/ERA5_z500_NH_daily_1985.nc', '/work_big/users/clima/portal/ERA5/z500/ERA5_z500_NH_daily_1986.nc', '/work_big/users/clima/portal/ERA5/z500/ERA5_z500_NH_daily_1987.nc', '/work_big/users/clima/portal/ERA5/z500/ERA5_z500_NH_daily_1988.nc', '/work_big/users/clima/portal/ERA5/z500/ERA5_z500_NH_daily_1989.nc']\n"
     ]
    }
   ],
   "source": [
    "# Define the file pattern\n",
    "file_pattern = data_dir + \"ERA5_\"+varstr+\"_NH_daily_????.nc\"\n",
    "# Get all file paths matching the pattern\n",
    "all_files = glob.glob(file_pattern)\n",
    "# Select and sort files\n",
    "selected_files = []\n",
    "for year in range(year_range[0], year_range[1]+1):\n",
    "    selected_files += [file for file in all_files if str(year) in file]\n",
    "selected_files = sorted(selected_files)\n",
    "print(selected_files[:5])\n",
    "print(sorted(all_files)[:5])"
   ]
  },
  {
   "cell_type": "markdown",
   "metadata": {},
   "source": [
    "### Load data and compute climatology"
   ]
  },
  {
   "cell_type": "code",
   "execution_count": 8,
   "metadata": {},
   "outputs": [],
   "source": [
    "# Define postprocessing function\n",
    "def daily_clim(ds, var_name=varname):\n",
    "    ds_clim = ds.groupby(\"time.dayofyear\").mean(\"time\")[var_name]\n",
    "    return ds_clim\n",
    "\n",
    "# Upload data and compute the daily climatology\n",
    "data_daily = xr.open_mfdataset(\n",
    "    selected_files, \\\n",
    "    use_cftime=True, \\\n",
    "    combine='by_coords', \\\n",
    "    chunks={'time': -1, 'lon': -1, 'lat': 10}, \\\n",
    "    )\n",
    "clim_daily = daily_clim(data_daily).compute()\n",
    "\n",
    "# Save the daily climatology\n",
    "clim_daily.to_netcdf(data_dir + 'climatology/ERA5_'+varstr+'_NH_daily_clim_'+str(year_range[0])+'-'+str(year_range[1])+'.nc')"
   ]
  },
  {
   "cell_type": "code",
   "execution_count": 9,
   "metadata": {},
   "outputs": [],
   "source": [
    "# Extend and smooth the daily climatology with a n_window running mean\n",
    "n_days = np.floor(n_window / 2).astype(int)\n",
    "clim_extended = xr.concat(\n",
    "    [clim_daily[-n_days:], clim_daily, clim_daily[:n_days]],\n",
    "    dim=\"dayofyear\"\n",
    ")\n",
    "new_dayofyear = np.arange(-n_days + 1, 365 + n_days + 1)\n",
    "clim_extended = clim_extended.assign_coords(dayofyear=new_dayofyear)\n",
    "clim_smooth = clim_extended.rolling(dayofyear=n_window, center=True).mean()\n",
    "clim_smooth = clim_smooth.sel(dayofyear=slice(1, 365))\n",
    "\n",
    "# Save the smoothed climatology\n",
    "clim_smooth.to_netcdf(data_dir + 'climatology/ERA5_'+varstr+'_NH_daily_clim_'+str(year_range[0])+'-'+str(year_range[1])+'_sm'+str(n_window)+'d.nc')"
   ]
  },
  {
   "cell_type": "markdown",
   "metadata": {},
   "source": [
    "### Compute anomalies from climatology"
   ]
  },
  {
   "cell_type": "code",
   "execution_count": 10,
   "metadata": {},
   "outputs": [
    {
     "name": "stdout",
     "output_type": "stream",
     "text": [
      "File  ERA5_z500_NH_daily_1985_anom.nc is saved\n",
      "File  ERA5_z500_NH_daily_1986_anom.nc is saved\n",
      "File  ERA5_z500_NH_daily_1987_anom.nc is saved\n",
      "File  ERA5_z500_NH_daily_1988_anom.nc is saved\n",
      "File  ERA5_z500_NH_daily_1989_anom.nc is saved\n",
      "File  ERA5_z500_NH_daily_1990_anom.nc is saved\n",
      "File  ERA5_z500_NH_daily_1991_anom.nc is saved\n",
      "File  ERA5_z500_NH_daily_1992_anom.nc is saved\n",
      "File  ERA5_z500_NH_daily_1993_anom.nc is saved\n",
      "File  ERA5_z500_NH_daily_1994_anom.nc is saved\n",
      "File  ERA5_z500_NH_daily_1995_anom.nc is saved\n",
      "File  ERA5_z500_NH_daily_1996_anom.nc is saved\n",
      "File  ERA5_z500_NH_daily_1997_anom.nc is saved\n",
      "File  ERA5_z500_NH_daily_1998_anom.nc is saved\n",
      "File  ERA5_z500_NH_daily_1999_anom.nc is saved\n",
      "File  ERA5_z500_NH_daily_2000_anom.nc is saved\n",
      "File  ERA5_z500_NH_daily_2001_anom.nc is saved\n",
      "File  ERA5_z500_NH_daily_2002_anom.nc is saved\n",
      "File  ERA5_z500_NH_daily_2003_anom.nc is saved\n",
      "File  ERA5_z500_NH_daily_2004_anom.nc is saved\n",
      "File  ERA5_z500_NH_daily_2005_anom.nc is saved\n",
      "File  ERA5_z500_NH_daily_2006_anom.nc is saved\n",
      "File  ERA5_z500_NH_daily_2007_anom.nc is saved\n",
      "File  ERA5_z500_NH_daily_2008_anom.nc is saved\n",
      "File  ERA5_z500_NH_daily_2009_anom.nc is saved\n",
      "File  ERA5_z500_NH_daily_2010_anom.nc is saved\n",
      "File  ERA5_z500_NH_daily_2011_anom.nc is saved\n",
      "File  ERA5_z500_NH_daily_2012_anom.nc is saved\n",
      "File  ERA5_z500_NH_daily_2013_anom.nc is saved\n",
      "File  ERA5_z500_NH_daily_2014_anom.nc is saved\n",
      "File  ERA5_z500_NH_daily_2015_anom.nc is saved\n",
      "File  ERA5_z500_NH_daily_2016_anom.nc is saved\n",
      "File  ERA5_z500_NH_daily_2017_anom.nc is saved\n",
      "File  ERA5_z500_NH_daily_2018_anom.nc is saved\n",
      "File  ERA5_z500_NH_daily_2019_anom.nc is saved\n",
      "File  ERA5_z500_NH_daily_2020_anom.nc is saved\n",
      "File  ERA5_z500_NH_daily_2021_anom.nc is saved\n",
      "File  ERA5_z500_NH_daily_2022_anom.nc is saved\n",
      "File  ERA5_z500_NH_daily_2023_anom.nc is saved\n"
     ]
    }
   ],
   "source": [
    "for file in sorted(all_files):\n",
    "    data = xr.open_dataset(file)\n",
    "    clim = xr.open_dataset(data_dir + 'climatology/ERA5_'+varstr+'_NH_daily_clim_'+str(year_range[0])+'-'+str(year_range[1])+'_sm'+str(n_window)+'d.nc')\n",
    "    clim = clim.sel(dayofyear=data['time'].dt.dayofyear).drop_vars(\"dayofyear\")\n",
    "    anom = data - clim\n",
    "    anom.to_netcdf(data_dir + file.split('/')[-1].split('.')[0] + '_anom.nc')\n",
    "    print('File ', file.split('/')[-1].split('.')[0] + '_anom.nc is saved')"
   ]
  },
  {
   "cell_type": "code",
   "execution_count": null,
   "metadata": {},
   "outputs": [],
   "source": []
  }
 ],
 "metadata": {
  "kernelspec": {
   "display_name": "geo_env",
   "language": "python",
   "name": "python3"
  },
  "language_info": {
   "codemirror_mode": {
    "name": "ipython",
    "version": 3
   },
   "file_extension": ".py",
   "mimetype": "text/x-python",
   "name": "python",
   "nbconvert_exporter": "python",
   "pygments_lexer": "ipython3",
   "version": "3.13.0"
  }
 },
 "nbformat": 4,
 "nbformat_minor": 2
}
