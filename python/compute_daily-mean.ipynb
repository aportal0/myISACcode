{
 "cells": [
  {
   "cell_type": "markdown",
   "metadata": {},
   "source": [
    "# Compute daily means on CNCRM5-LE"
   ]
  },
  {
   "cell_type": "code",
   "execution_count": 2,
   "metadata": {},
   "outputs": [
    {
     "name": "stderr",
     "output_type": "stream",
     "text": [
      "/home/portal/anaconda3/envs/myenv/lib/python3.10/site-packages/distributed/node.py:182: UserWarning: Port 8787 is already in use.\n",
      "Perhaps you already have a cluster running?\n",
      "Hosting the HTTP server on port 44715 instead\n",
      "  warnings.warn(\n"
     ]
    }
   ],
   "source": [
    "import numpy as np\n",
    "import xarray as xr\n",
    "import subprocess\n",
    "import multiprocessing\n",
    "from multiprocessing import Pool\n",
    "import time\n",
    "\n",
    "# my function files\n",
    "import functions_preprocessing as fp"
   ]
  },
  {
   "cell_type": "code",
   "execution_count": 4,
   "metadata": {},
   "outputs": [],
   "source": [
    "## Parameters\n",
    "# Variable\n",
    "var = 'tas'\n",
    "# Period\n",
    "year_range = [1955,1955]\n",
    "# Number of ensemble members\n",
    "memb_range = [50,50]\n",
    "# Months\n",
    "mon_range = [1,12]\n",
    "# Encoding (for compressing netcdf output)\n",
    "encoding_netcdf = {\n",
    "    var: {\n",
    "        'zlib': 'True',  # Use gzip compression\n",
    "        'complevel': 5,  # Compression level (1-9)\n",
    "        'dtype': 'float32'      # Optionally change data type to reduce size\n",
    "    }\n",
    "}\n",
    "# Number of processors\n",
    "nproc = 12"
   ]
  },
  {
   "cell_type": "code",
   "execution_count": 5,
   "metadata": {},
   "outputs": [],
   "source": [
    "## Computation\n",
    "# Loop over ensemble members, years, months\n",
    "# st = time.time()\n",
    "for memb in range(memb_range[0],memb_range[1]+1):\n",
    "    # Generate list strings\n",
    "    files_3h = [\n",
    "        fp.path_file_CRCM5(var, memb, year, mon, time_res='3h')\n",
    "        for year in range(year_range[0], year_range[1] + 1)\n",
    "        for mon in range(mon_range[0], mon_range[1] + 1)\n",
    "    ]\n",
    "    files_daily = [\n",
    "        fp.path_file_CRCM5(var, memb, year, mon, time_res='daily')\n",
    "        for year in range(year_range[0], year_range[1] + 1)\n",
    "        for mon in range(mon_range[0], mon_range[1] + 1)\n",
    "    ]\n",
    "    nfiles = len(files_3h)\n",
    "    # Compute and save daily mean (parallelized)\n",
    "    inputs_funct = zip(files_3h, files_daily, \n",
    "                       ['tas']*nfiles, [encoding_netcdf]*nfiles)\n",
    "    with Pool(nproc) as p:\n",
    "        p.starmap(fp.save_daily_mean,inputs_funct) ## Pool(4) 2 min 24 sec / Pool(12) 2 min 0 sec per year data\n",
    "    \n",
    "#         # Bash remove file command (after checking if daily file is present)\n",
    "#         for ifile in range(ii,ii+nproc):\n",
    "#             l_rm = True\n",
    "#             status = subprocess.call(\"test -e '{}'\".format(files_daily[ifile]), shell=True)\n",
    "#             if status == 0:\n",
    "#                 command = f'rm '+files_3h[ifile]\n",
    "#                 result = subprocess.run(command, shell=True, text=True, capture_output=True)\n",
    "#                 fp.check_subprocess(result, memb, year_range[0]+ifile//12, ifile%12+1)\n",
    "#             else:\n",
    "#                 print('3h file of member '+memb+', year '+str(year_range[0]+ifile//12)+', month '+str(ifile%12+1)+\n",
    "#                       ' not removed because some daily files are missing')"
   ]
  },
  {
   "cell_type": "code",
   "execution_count": 10,
   "metadata": {},
   "outputs": [
    {
     "ename": "TypeError",
     "evalue": "'zip' object is not subscriptable",
     "output_type": "error",
     "traceback": [
      "\u001b[0;31m---------------------------------------------------------------------------\u001b[0m",
      "\u001b[0;31mTypeError\u001b[0m                                 Traceback (most recent call last)",
      "Cell \u001b[0;32mIn[10], line 1\u001b[0m\n\u001b[0;32m----> 1\u001b[0m \u001b[43minputs_funct\u001b[49m\u001b[43m[\u001b[49m\u001b[38;5;241;43m1\u001b[39;49m\u001b[43m]\u001b[49m\n",
      "\u001b[0;31mTypeError\u001b[0m: 'zip' object is not subscriptable"
     ]
    }
   ],
   "source": [
    "inputs_funct"
   ]
  },
  {
   "cell_type": "code",
   "execution_count": null,
   "metadata": {},
   "outputs": [],
   "source": []
  }
 ],
 "metadata": {
  "kernelspec": {
   "display_name": "myenv",
   "language": "python",
   "name": "python3"
  },
  "language_info": {
   "codemirror_mode": {
    "name": "ipython",
    "version": 3
   },
   "file_extension": ".py",
   "mimetype": "text/x-python",
   "name": "python",
   "nbconvert_exporter": "python",
   "pygments_lexer": "ipython3",
   "version": "3.10.6"
  }
 },
 "nbformat": 4,
 "nbformat_minor": 2
}
