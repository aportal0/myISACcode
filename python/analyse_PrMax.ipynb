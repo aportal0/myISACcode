{
 "cells": [
  {
   "cell_type": "code",
   "execution_count": 1,
   "metadata": {},
   "outputs": [],
   "source": [
    "import numpy as np\n",
    "import pandas as pd"
   ]
  },
  {
   "cell_type": "markdown",
   "metadata": {},
   "source": [
    "#### Parameters"
   ]
  },
  {
   "cell_type": "code",
   "execution_count": 6,
   "metadata": {},
   "outputs": [],
   "source": [
    "n_nodes = 6"
   ]
  },
  {
   "cell_type": "markdown",
   "metadata": {},
   "source": [
    "#### Upload excel node files"
   ]
  },
  {
   "cell_type": "code",
   "execution_count": 16,
   "metadata": {},
   "outputs": [
    {
     "name": "stdout",
     "output_type": "stream",
     "text": [
      "['Abru' 'Basi' 'Cala' 'Camp' 'Emil' 'Friu' 'Lazi' 'Ligu' 'Lomb' 'Marc'\n",
      " 'Moli' 'Piem' 'Pugl' 'Sard' 'Sici' 'Tosc' 'Tren' 'Umbr' 'VDAo' 'Vene']\n"
     ]
    }
   ],
   "source": [
    "# Upload the data\n",
    "for node in range(1,n_nodes+1):\n",
    "    globals()[f'df_{node}'] = pd.read_excel('/home/alice/Desktop/CNR/ENCIRCLE/materiale_cri/CERRA_LAND_italy_3by2_sorted_by_PrMax.xlsx', sheet_name=node-1)\n",
    "# Titles of the columns\n",
    "column_titles = df_1.columns.tolist()\n",
    "region_titles = column_titles[1:-7]\n",
    "bigregion_titles = np.unique([title[:4] for title in region_titles])\n",
    "print(bigregion_titles)"
   ]
  },
  {
   "cell_type": "code",
   "execution_count": 14,
   "metadata": {},
   "outputs": [
    {
     "name": "stdout",
     "output_type": "stream",
     "text": [
      "['VDAo-A', 'VDAo-B', 'VDAo-C', 'VDAo-D', 'Piem-A', 'Piem-B', 'Piem-C', 'Piem-D', 'Piem-E', 'Piem-F', 'Piem-G', 'Piem-H', 'Piem-I', 'Piem-L', 'Piem-M', 'Ligu-A', 'Ligu-B', 'Ligu-C', 'Ligu-D', 'Ligu-E', 'Lomb-01', 'Lomb-02', 'Lomb-03', 'Lomb-04', 'Lomb-05', 'Lomb-06', 'Lomb-07', 'Lomb-08', 'Lomb-09', 'Lomb-10', 'Lomb-11', 'Lomb-12', 'Lomb-13', 'Lomb-14', 'Tren-A', 'Tren-B', 'Vene-A', 'Vene-B', 'Vene-C', 'Vene-D', 'Vene-E', 'Vene-F', 'Vene-G', 'Vene-H', 'Friu-A', 'Friu-B', 'Friu-C', 'Friu-D', 'Emil-A', 'Emil-B', 'Emil-C', 'Emil-D', 'Emil-E', 'Emil-F', 'Emil-G', 'Emil-H', 'Tosc-A1', 'Tosc-A2', 'Tosc-A3', 'Tosc-A4', 'Tosc-A5', 'Tosc-A6', 'Tosc-B', 'Tosc-C', 'Tosc-E1', 'Tosc-E2', 'Tosc-E3', 'Tosc-F1', 'Tosc-F2', 'Tosc-I', 'Tosc-L', 'Tosc-M', 'Tosc-O1', 'Tosc-O2', 'Tosc-O3', 'Tosc-R1', 'Tosc-R2', 'Tosc-S1', 'Tosc-S2', 'Tosc-S3', 'Tosc-T', 'Tosc-V', 'Umbr-A', 'Umbr-B', 'Umbr-C', 'Umbr-D', 'Umbr-E', 'Umbr-F', 'Marc-1', 'Marc-2', 'Marc-3', 'Marc-4', 'Marc-5', 'Marc-6', 'Abru-A', 'Abru-B', 'Abru-C', 'Abru-D1', 'Abru-D2', 'Abru-E', 'Moli-A', 'Moli-B', 'Moli-C', 'Lazi-A', 'Lazi-B', 'Lazi-C', 'Lazi-D', 'Lazi-E', 'Lazi-F', 'Lazi-G', 'Camp-1', 'Camp-2', 'Camp-3', 'Camp-4', 'Camp-5', 'Camp-6', 'Camp-7', 'Camp-8', 'Cala-1', 'Cala-2', 'Cala-3', 'Cala-4', 'Cala-5', 'Cala-6', 'Basi-A1', 'Basi-A2', 'Basi-B', 'Basi-C', 'Basi-D', 'Basi-E1', 'Basi-E2', 'Pugl-A', 'Pugl-B', 'Pugl-C', 'Pugl-D', 'Pugl-E', 'Pugl-F', 'Pugl-G', 'Pugl-H', 'Pugl-I', 'Sici-A', 'Sici-B', 'Sici-C', 'Sici-D', 'Sici-E', 'Sici-F', 'Sici-G', 'Sici-H', 'Sici-I', 'Sard-A', 'Sard-B', 'Sard-C', 'Sard-D', 'Sard-E', 'Sard-F', 'Sard-G']\n"
     ]
    }
   ],
   "source": [
    "print(region_titles)"
   ]
  },
  {
   "cell_type": "code",
   "execution_count": null,
   "metadata": {},
   "outputs": [],
   "source": []
  }
 ],
 "metadata": {
  "kernelspec": {
   "display_name": "myenv",
   "language": "python",
   "name": "python3"
  },
  "language_info": {
   "codemirror_mode": {
    "name": "ipython",
    "version": 3
   },
   "file_extension": ".py",
   "mimetype": "text/x-python",
   "name": "python",
   "nbconvert_exporter": "python",
   "pygments_lexer": "ipython3",
   "version": "3.10.6"
  }
 },
 "nbformat": 4,
 "nbformat_minor": 2
}
