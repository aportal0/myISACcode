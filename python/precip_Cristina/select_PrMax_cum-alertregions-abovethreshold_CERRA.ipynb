{
 "cells": [
  {
   "cell_type": "code",
   "execution_count": 1,
   "metadata": {},
   "outputs": [],
   "source": [
    "# use conda env \"geo_env\"\n",
    "\n",
    "import numpy as np\n",
    "import pandas as pd\n",
    "import xarray as xr\n",
    "from datetime import datetime\n",
    "import matplotlib.pyplot as plt\n",
    "import os\n",
    "import geopandas as gpd\n"
   ]
  },
  {
   "cell_type": "markdown",
   "metadata": {},
   "source": [
    "#### Parameters"
   ]
  },
  {
   "cell_type": "code",
   "execution_count": 2,
   "metadata": {},
   "outputs": [],
   "source": [
    "n_nodes = 6\n",
    "# data_dir = '/work_big/users/portal/CERRA-Land/'\n",
    "# geo_dir = '/home/zappa/ENCIRCLE/shapefiles/'\n",
    "data_dir = '/media/alice/Crucial X9/portal/data_CNR/CERRA/'  # local path\n",
    "geo_dir = '/media/alice/Crucial X9/portal/data_CNR/shapefiles/'  # local path"
   ]
  },
  {
   "cell_type": "markdown",
   "metadata": {},
   "source": [
    "#### Upload excel node files"
   ]
  },
  {
   "cell_type": "code",
   "execution_count": 3,
   "metadata": {},
   "outputs": [
    {
     "name": "stdout",
     "output_type": "stream",
     "text": [
      "['Time', 'VDAo-A', 'VDAo-B', 'VDAo-C', 'VDAo-D', 'Piem-A', 'Piem-B', 'Piem-C', 'Piem-D', 'Piem-E', 'Piem-F', 'Piem-G', 'Piem-H', 'Piem-I', 'Piem-L', 'Piem-M', 'Ligu-A', 'Ligu-B', 'Ligu-C', 'Ligu-D', 'Ligu-E', 'Lomb-01', 'Lomb-02', 'Lomb-03', 'Lomb-04', 'Lomb-05', 'Lomb-06', 'Lomb-07', 'Lomb-08', 'Lomb-09', 'Lomb-10', 'Lomb-11', 'Lomb-12', 'Lomb-13', 'Lomb-14', 'Tren-A', 'Tren-B', 'Vene-A', 'Vene-B', 'Vene-C', 'Vene-D', 'Vene-E', 'Vene-F', 'Vene-G', 'Vene-H', 'Friu-A', 'Friu-B', 'Friu-C', 'Friu-D', 'Emil-A', 'Emil-B', 'Emil-C', 'Emil-D', 'Emil-E', 'Emil-F', 'Emil-G', 'Emil-H', 'Tosc-A1', 'Tosc-A2', 'Tosc-A3', 'Tosc-A4', 'Tosc-A5', 'Tosc-A6', 'Tosc-B', 'Tosc-C', 'Tosc-E1', 'Tosc-E2', 'Tosc-E3', 'Tosc-F1', 'Tosc-F2', 'Tosc-I', 'Tosc-L', 'Tosc-M', 'Tosc-O1', 'Tosc-O2', 'Tosc-O3', 'Tosc-R1', 'Tosc-R2', 'Tosc-S1', 'Tosc-S2', 'Tosc-S3', 'Tosc-T', 'Tosc-V', 'Umbr-A', 'Umbr-B', 'Umbr-C', 'Umbr-D', 'Umbr-E', 'Umbr-F', 'Marc-1', 'Marc-2', 'Marc-3', 'Marc-4', 'Marc-5', 'Marc-6', 'Abru-A', 'Abru-B', 'Abru-C', 'Abru-D1', 'Abru-D2', 'Abru-E', 'Moli-A', 'Moli-B', 'Moli-C', 'Lazi-A', 'Lazi-B', 'Lazi-C', 'Lazi-D', 'Lazi-E', 'Lazi-F', 'Lazi-G', 'Camp-1', 'Camp-2', 'Camp-3', 'Camp-4', 'Camp-5', 'Camp-6', 'Camp-7', 'Camp-8', 'Cala-1', 'Cala-2', 'Cala-3', 'Cala-4', 'Cala-5', 'Cala-6', 'Basi-A1', 'Basi-A2', 'Basi-B', 'Basi-C', 'Basi-D', 'Basi-E1', 'Basi-E2', 'Pugl-A', 'Pugl-B', 'Pugl-C', 'Pugl-D', 'Pugl-E', 'Pugl-F', 'Pugl-G', 'Pugl-H', 'Pugl-I', 'Sici-A', 'Sici-B', 'Sici-C', 'Sici-D', 'Sici-E', 'Sici-F', 'Sici-G', 'Sici-H', 'Sici-I', 'Sard-A', 'Sard-B', 'Sard-C', 'Sard-D', 'Sard-E', 'Sard-F', 'Sard-G', 'intense rain day', '#regions', 'sum_area_kmq', 'intense rain day (1000km2)', 'intense rain day (2500km2)', 'intense rain day (5000km2)', 'PrMax', 'WT']\n",
      "VDAo-A    39.249168\n",
      "VDAo-B    64.775642\n",
      "VDAo-C    41.165089\n",
      "VDAo-D    41.615082\n",
      "Piem-A    89.216904\n",
      "            ...    \n",
      "Sard-C    28.795219\n",
      "Sard-D    51.055359\n",
      "Sard-E    30.655519\n",
      "Sard-F      46.9641\n",
      "Sard-G     29.10928\n",
      "Name: 14671, Length: 156, dtype: object\n"
     ]
    }
   ],
   "source": [
    "# Upload the node data\n",
    "df_all_nodes = pd.read_excel(data_dir+'CERRA_italy_1984_2024_3by2_sorted_by_dates_WT.xlsx')\n",
    "column_titles = df_all_nodes.columns.tolist()\n",
    "print(column_titles)\n",
    "# Upload daily data\n",
    "df_byday = pd.read_excel(data_dir+'cerra6_19840901_20241031_direct_italy_withArea.xlsx')\n",
    "# Upload 99th percentile per alert region (over period 1985-2019)\n",
    "subregion_99pct = df_byday.iloc[-1,1:-6]\n",
    "print(subregion_99pct)"
   ]
  },
  {
   "cell_type": "markdown",
   "metadata": {},
   "source": [
    "#### Upload shapefiles"
   ]
  },
  {
   "cell_type": "code",
   "execution_count": 5,
   "metadata": {},
   "outputs": [
    {
     "name": "stdout",
     "output_type": "stream",
     "text": [
      "['VDAo-A' 'VDAo-B' 'VDAo-C' 'VDAo-D' 'Piem-A' 'Piem-B' 'Piem-C' 'Piem-D'\n",
      " 'Piem-E' 'Piem-F' 'Piem-G' 'Piem-H' 'Piem-I' 'Piem-L' 'Piem-M' 'Ligu-A'\n",
      " 'Ligu-B' 'Ligu-C' 'Ligu-D' 'Ligu-E' 'Lomb-01' 'Lomb-02' 'Lomb-03'\n",
      " 'Lomb-04' 'Lomb-05' 'Lomb-06' 'Lomb-07' 'Lomb-08' 'Lomb-09' 'Lomb-10'\n",
      " 'Lomb-11' 'Lomb-12' 'Lomb-13' 'Lomb-14' 'Tren-A' 'Tren-B' 'Vene-A'\n",
      " 'Vene-B' 'Vene-C' 'Vene-D' 'Vene-E' 'Vene-F' 'Vene-G' 'Vene-H' 'Friu-A'\n",
      " 'Friu-B' 'Friu-C' 'Friu-D' 'Emil-A' 'Emil-B' 'Emil-C' 'Emil-D' 'Emil-E'\n",
      " 'Emil-F' 'Emil-G' 'Emil-H' 'Tosc-A1' 'Tosc-A2' 'Tosc-A3' 'Tosc-A4'\n",
      " 'Tosc-A5' 'Tosc-A6' 'Tosc-B' 'Tosc-C' 'Tosc-E1' 'Tosc-E2' 'Tosc-E3'\n",
      " 'Tosc-F1' 'Tosc-F2' 'Tosc-I' 'Tosc-L' 'Tosc-M' 'Tosc-O1' 'Tosc-O2'\n",
      " 'Tosc-O3' 'Tosc-R1' 'Tosc-R2' 'Tosc-S1' 'Tosc-S2' 'Tosc-S3' 'Tosc-T'\n",
      " 'Tosc-V' 'Umbr-A' 'Umbr-B' 'Umbr-C' 'Umbr-D' 'Umbr-E' 'Umbr-F' 'Marc-1'\n",
      " 'Marc-2' 'Marc-3' 'Marc-4' 'Marc-5' 'Marc-6' 'Abru-A' 'Abru-B' 'Abru-C'\n",
      " 'Abru-D1' 'Abru-D2' 'Abru-E' 'Moli-A' 'Moli-B' 'Moli-C' 'Lazi-A' 'Lazi-B'\n",
      " 'Lazi-C' 'Lazi-D' 'Lazi-E' 'Lazi-F' 'Lazi-G' 'Camp-1' 'Camp-2' 'Camp-3'\n",
      " 'Camp-4' 'Camp-5' 'Camp-6' 'Camp-7' 'Camp-8' 'Cala-1' 'Cala-2' 'Cala-3'\n",
      " 'Cala-4' 'Cala-5' 'Cala-6' 'Basi-A1' 'Basi-A2' 'Basi-B' 'Basi-C' 'Basi-D'\n",
      " 'Basi-E1' 'Basi-E2' 'Pugl-A' 'Pugl-B' 'Pugl-C' 'Pugl-D' 'Pugl-E' 'Pugl-F'\n",
      " 'Pugl-G' 'Pugl-H' 'Pugl-I' 'Sici-A' 'Sici-B' 'Sici-C' 'Sici-D' 'Sici-E'\n",
      " 'Sici-F' 'Sici-G' 'Sici-H' 'Sici-I' 'Sard-A' 'Sard-B' 'Sard-C' 'Sard-D'\n",
      " 'Sard-E' 'Sard-F' 'Sard-G']\n",
      "[\"Valle d'Aosta\" 'Piemonte' 'Liguria' 'Lombardia' 'Trentino Alto Adige'\n",
      " 'Veneto' 'Friuli Venezia Giulia' 'Emilia Romagna' 'Toscana' 'Umbria'\n",
      " 'Marche' 'Abruzzo' 'Molise' 'Lazio' 'Campania' 'Calabria' 'Basilicata'\n",
      " 'Puglia' 'Sicilia' 'Sardegna']\n",
      "['VDAo', 'Piem', 'Ligu', 'Lomb', 'Tren', 'Vene', 'Friu', 'Emil', 'Tosc', 'Umbr', 'Marc', 'Abru', 'Moli', 'Lazi', 'Camp', 'Cala', 'Basi', 'Pugl', 'Sici', 'Sard']\n"
     ]
    }
   ],
   "source": [
    "# shape file intput of warning regions\n",
    "shapef_path = os.path.join(geo_dir,\"ZA_2017_ID_v4_geowgs84.shp\")\n",
    "shape_gdf = gpd.read_file(shapef_path)\n",
    "shape_titles = shape_gdf.columns.tolist()\n",
    "# print(shape_titles)\n",
    "# print(shape_gdf.head())\n",
    "# subregional / regional info\n",
    "region_titles = shape_gdf['Regione'].unique()\n",
    "subregion_cod = np.array(shape_gdf['Cod_DPC'])\n",
    "region_cod, ind_list = np.unique([cod[:4] for cod in subregion_cod], return_index=True)\n",
    "region_cod = [cod[:4] for cod in subregion_cod[np.sort(np.array(ind_list))]]\n",
    "subregion_area = shape_gdf['area_kmq']\n",
    "print(subregion_cod)\n",
    "print(region_titles)\n",
    "print(region_cod)"
   ]
  },
  {
   "cell_type": "markdown",
   "metadata": {},
   "source": [
    "#### Accumulate precip volume over above-threshold (99th pct) alert regions and save the most extreme"
   ]
  },
  {
   "cell_type": "code",
   "execution_count": 14,
   "metadata": {},
   "outputs": [],
   "source": [
    "Nmax = 20\n",
    "for node in range(1,n_nodes+1):\n",
    "    df = df_all_nodes[df_all_nodes[\"WT\"] == node].reset_index(drop=True)\n",
    "    ntimes = len(df['VDAo-A'])\n",
    "    extrprecip_acc = np.array([\n",
    "        sum((df[sr][it] - subregion_99pct[sr]) * subregion_area[i] * 10**3 \n",
    "            for i, sr in enumerate(subregion_cod) if df[sr][it] > subregion_99pct[sr])\n",
    "        for it in range(ntimes)\n",
    "    ]) # volume of precipitation exceeding 99th percentile over alert regions above threshold [m3]\n",
    "    extrprecip_sr = [\n",
    "        [sr for sr in subregion_cod if df[sr][it] > subregion_99pct[sr]]\n",
    "        for it in range(ntimes)\n",
    "    ] # alert regions with extreme precipitation above 99th percentile\n",
    "    df['precip_vol_above99pct_m3'] = extrprecip_acc\n",
    "    df['alert_regions_above99pct'] = extrprecip_sr\n",
    "\n",
    "    # Select data for Nmax events\n",
    "    ordered_index = df['precip_vol_above99pct_m3'].sort_values(ascending=False).index[:Nmax]\n",
    "    df_events = pd.DataFrame({\n",
    "        'Index': ordered_index, \n",
    "        'Time': df.loc[ordered_index,'Time'], \n",
    "        'Alert regions above 99': df.loc[ordered_index,'alert_regions_above99pct'], \n",
    "        'Precipitation volume exceeding 99': df.loc[ordered_index,'precip_vol_above99pct_m3']\n",
    "        })\n",
    "    globals()[f'df_events_n{node}'] = df_events\n",
    "\n",
    "# Save df_events to excel\n",
    "with pd.ExcelWriter(data_dir+f'events_cum_on_above99_alertregions_CERRA.xlsx', engine='openpyxl') as writer:\n",
    "    for node in range(1,n_nodes+1):\n",
    "        globals()[f'df_events_n{node}'].to_excel(writer, sheet_name='Node'+str(node), index=False)"
   ]
  },
  {
   "cell_type": "code",
   "execution_count": null,
   "metadata": {},
   "outputs": [],
   "source": []
  }
 ],
 "metadata": {
  "kernelspec": {
   "display_name": "geo_env",
   "language": "python",
   "name": "python3"
  },
  "language_info": {
   "codemirror_mode": {
    "name": "ipython",
    "version": 3
   },
   "file_extension": ".py",
   "mimetype": "text/x-python",
   "name": "python",
   "nbconvert_exporter": "python",
   "pygments_lexer": "ipython3",
   "version": "3.13.5"
  }
 },
 "nbformat": 4,
 "nbformat_minor": 2
}
