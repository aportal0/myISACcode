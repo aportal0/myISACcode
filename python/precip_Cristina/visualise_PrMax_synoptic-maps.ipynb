{
 "cells": [
  {
   "cell_type": "code",
   "execution_count": 1,
   "metadata": {},
   "outputs": [],
   "source": [
    "# use conda env \"geo_env\"\n",
    "import numpy as np\n",
    "import pandas as pd\n",
    "\n",
    "import matplotlib.pyplot as plt\n",
    "import cartopy.crs as ccrs\n",
    "import functions_visualise_PrMax as fvp\n"
   ]
  },
  {
   "cell_type": "markdown",
   "metadata": {},
   "source": [
    "#### Parameters"
   ]
  },
  {
   "cell_type": "code",
   "execution_count": 2,
   "metadata": {},
   "outputs": [],
   "source": [
    "n_nodes = 6\n",
    "data_dir = '/work_big/users/portal/CERRA-Land/'\n",
    "fig_dir = '/home/portal/figures/case-studies_byNode/'"
   ]
  },
  {
   "cell_type": "markdown",
   "metadata": {},
   "source": [
    "#### Upload excel node file with list of main precip events"
   ]
  },
  {
   "cell_type": "code",
   "execution_count": 3,
   "metadata": {},
   "outputs": [
    {
     "name": "stdout",
     "output_type": "stream",
     "text": [
      "['Index', 'Time', 'Wide region', 'Precipitation']\n"
     ]
    }
   ],
   "source": [
    "# Selection\n",
    "lselect = 'Italy'  # 'Italy' or 'wide-region' or 'alert-regions'\n",
    "# Upload the data\n",
    "for node in range(1,n_nodes+1):\n",
    "    if lselect == 'wide-region':\n",
    "        globals()[f'df_events_{node}'] = pd.read_excel(data_dir+'events_on_wide_regions.xlsx', sheet_name=node-1)\n",
    "    elif lselect == 'alert-regions':\n",
    "        globals()[f'df_events_{node}'] = pd.read_excel(data_dir+'events_cum_on_above99_alert_regions.xlsx', sheet_name=node-1)\n",
    "    elif lselect == 'Italy':\n",
    "        globals()[f'df_events_{node}'] = pd.read_excel(data_dir+'events_on_Italy.xlsx', sheet_name=node-1)\n",
    "# Titles of the columns\n",
    "column_titles = df_events_1.columns.tolist()\n",
    "print(column_titles)"
   ]
  },
  {
   "cell_type": "markdown",
   "metadata": {},
   "source": [
    "#### For each node, plot geopotential height and mslp for every PrMax_wideregion event "
   ]
  },
  {
   "cell_type": "code",
   "execution_count": null,
   "metadata": {},
   "outputs": [
    {
     "name": "stdout",
     "output_type": "stream",
     "text": [
      "Load z500, msl\n"
     ]
    },
    {
     "name": "stderr",
     "output_type": "stream",
     "text": [
      "/home/portal/anaconda3/envs/geo_env/lib/python3.13/site-packages/cartopy/mpl/geoaxes.py:1600: UserWarning: The following kwargs were not used by contour: 'linewidth'\n",
      "  result = super().contour(*args, **kwargs)\n"
     ]
    }
   ],
   "source": [
    "lonlat_box_wide = [-20, 40, 28, 65]\n",
    "lonlat_box_italy = [5, 20, 36, 47.5]\n",
    "\n",
    "for node in range(1,n_nodes+1):\n",
    "\n",
    "    # Loop through each time in df_events_1 and plot the data\n",
    "    df_events = globals()[f'df_events_{node}']\n",
    "    ntimes = len(df_events['Time'])\n",
    "    # Initialise figure\n",
    "    fig, axes = plt.subplots(ntimes, 2, figsize=(10, 3 * ntimes), subplot_kw={'projection': ccrs.PlateCarree()})\n",
    "    # Loop over times extremes\n",
    "    for i, time in enumerate(df_events['Time']):\n",
    "        ax0, ax1 = (axes[i,0], axes[i,1])\n",
    "        fvp.plot_geopotential_and_mslp(ax0, time + np.timedelta64(12, 'h'), lonlat_box_wide)\n",
    "        fvp.plot_precipitation(ax1, time, lonlat_box_italy)\n",
    "    fig.tight_layout()\n",
    "    if lselect == 'wide-region':\n",
    "        fig.savefig(f'{fig_dir}node{node}-extremes-wideregions_z500_mslp_precip.png')\n",
    "    elif lselect == 'alert-regions':\n",
    "        fig.savefig(f'{fig_dir}node{node}-extremes-alertregions_precip_z500_mslp.png')\n",
    "    elif lselect == 'Italy':\n",
    "        fig.savefig(f'{fig_dir}node{node}-extremes-Italy_z500_mslp_precip.png')"
   ]
  }
 ],
 "metadata": {
  "kernelspec": {
   "display_name": "geo_env",
   "language": "python",
   "name": "python3"
  },
  "language_info": {
   "codemirror_mode": {
    "name": "ipython",
    "version": 3
   },
   "file_extension": ".py",
   "mimetype": "text/x-python",
   "name": "python",
   "nbconvert_exporter": "python",
   "pygments_lexer": "ipython3",
   "version": "3.13.0"
  }
 },
 "nbformat": 4,
 "nbformat_minor": 2
}
